{
 "cells": [
  {
   "cell_type": "code",
   "execution_count": null,
   "metadata": {},
   "outputs": [],
   "source": [
    "import tkinter as tk\n",
    "from tkinter import font\n",
    "import json\n",
    "\n",
    "def measure_bmp(family=\"Arial\", size=16):\n",
    "    \"\"\"\n",
    "    指定フォント (family, size) で、BMP (U+0000～U+FFFF) の全文字を測定し、\n",
    "    {文字: 幅(px)} の辞書を返す。\n",
    "    \n",
    "    - サロゲートペア領域 (U+D800～U+DFFF) は単体文字として扱えないのでスキップ。\n",
    "    - フォールバックにより、実際には Arial で描画されない文字もある可能性がある点に注意。\n",
    "    \"\"\"\n",
    "    root = tk.Tk()\n",
    "    root.withdraw()\n",
    "    tk_font = font.Font(family=family, size=size)\n",
    "\n",
    "    char_widths = {}\n",
    "    count_skipped = 0  # サロゲートペア領域などをスキップした数\n",
    "\n",
    "    # BMP の範囲\n",
    "    start_cp = 0x0000\n",
    "    end_cp   = 0xFFFF\n",
    "\n",
    "    total_cp = end_cp - start_cp + 1\n",
    "\n",
    "    print(f\"BMP 計測開始: 0x{start_cp:04X} ～ 0x{end_cp:04X} (合計 {total_cp} コードポイント)\")\n",
    "    print(\"サロゲートペア領域 (0xD800～0xDFFF) はスキップします。\")\n",
    "\n",
    "    codepoint_list = []\n",
    "    for cp in range(start_cp, end_cp + 1):\n",
    "        # サロゲートペア領域をスキップ\n",
    "        if 0xD800 <= cp <= 0xDFFF:\n",
    "            count_skipped += 1\n",
    "            continue\n",
    "        codepoint_list.append(cp)\n",
    "\n",
    "    print(f\"実際に計測するコードポイント数: {len(codepoint_list)} (スキップ: {count_skipped})\")\n",
    "\n",
    "    # 計測ループ\n",
    "    for i, cp in enumerate(codepoint_list, start=1):\n",
    "        ch = chr(cp)\n",
    "        try:\n",
    "            w = tk_font.measure(ch)\n",
    "            char_widths[ch] = w\n",
    "        except:\n",
    "            # 稀に発生する例外は無視\n",
    "            pass\n",
    "\n",
    "        # 進捗をある程度表示 (1万文字ごとなど、適宜調整)\n",
    "        if i % 1000 == 0:\n",
    "            print(f\" - {i}/{len(codepoint_list)} 文字を計測完了 ...\")\n",
    "\n",
    "    root.destroy()\n",
    "    return char_widths\n",
    "\n",
    "def main():\n",
    "    print(\"Measuring all BMP characters (excluding surrogate pair range) with Arial 16px...\")\n",
    "    widths_dict = measure_bmp(family=\"Arial\", size=16)\n",
    "\n",
    "    output_file = \"char_widths_BMP_Arial16.json\"\n",
    "    print(f\"\\n出力ファイル: {output_file} に保存します。\")\n",
    "\n",
    "    with open(output_file, \"w\", encoding=\"utf-8\") as fp:\n",
    "        json.dump(widths_dict, fp, ensure_ascii=False, indent=2)\n",
    "\n",
    "    print(f\"完了しました。 {len(widths_dict)} 文字の幅を保存しました。\")\n",
    "\n",
    "if __name__ == \"__main__\":\n",
    "    main()\n"
   ]
  },
  {
   "cell_type": "code",
   "execution_count": 2,
   "metadata": {},
   "outputs": [],
   "source": [
    "import json\n",
    "\n",
    "# 事前に作成した char_widths_BMP_Arial16.json ファイルを読み込み\n",
    "with open(\"char_widths_BMP_Arial16.json\", \"r\", encoding=\"utf-8\") as fp:\n",
    "    widths_dict = json.load(fp)"
   ]
  },
  {
   "cell_type": "code",
   "execution_count": 3,
   "metadata": {},
   "outputs": [],
   "source": [
    "def measure_text_size_json(text, widths_dict):\n",
    "    \"\"\"\n",
    "    JSONで読み込んだ  {文字: 幅(px)} の辞書 (widths_dict) を用いて、\n",
    "    与えられた文字列 text の幅を合計して返す。\n",
    "    \"\"\"\n",
    "    total_width = 0\n",
    "    for ch in text:\n",
    "        # JSONにない文字の場合は幅 0 とみなす（または別の処理）\n",
    "        char_width = widths_dict.get(ch, 8)\n",
    "        total_width += char_width\n",
    "    return total_width"
   ]
  },
  {
   "cell_type": "code",
   "execution_count": 4,
   "metadata": {},
   "outputs": [
    {
     "name": "stdout",
     "output_type": "stream",
     "text": [
      "文字列: 练\n",
      "幅: 21px\n"
     ]
    }
   ],
   "source": [
    "text = \"练\"\n",
    "width_px = measure_text_size_json(text, widths_dict)\n",
    "print(f\"文字列: {text}\")\n",
    "print(f\"幅: {width_px}px\")"
   ]
  }
 ],
 "metadata": {
  "kernelspec": {
   "display_name": "base",
   "language": "python",
   "name": "python3"
  },
  "language_info": {
   "codemirror_mode": {
    "name": "ipython",
    "version": 3
   },
   "file_extension": ".py",
   "mimetype": "text/x-python",
   "name": "python",
   "nbconvert_exporter": "python",
   "pygments_lexer": "ipython3",
   "version": "3.8.18"
  }
 },
 "nbformat": 4,
 "nbformat_minor": 2
}
