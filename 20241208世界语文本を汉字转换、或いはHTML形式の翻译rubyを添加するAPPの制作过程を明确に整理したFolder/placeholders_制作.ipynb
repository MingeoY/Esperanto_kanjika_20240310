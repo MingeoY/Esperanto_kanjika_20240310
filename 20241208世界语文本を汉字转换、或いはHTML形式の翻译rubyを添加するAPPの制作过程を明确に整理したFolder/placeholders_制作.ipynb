{
 "cells": [
  {
   "cell_type": "code",
   "execution_count": 3,
   "metadata": {},
   "outputs": [],
   "source": [
    "# 範囲を指定\n",
    "start_number = 18542  # 開始の数字\n",
    "end_number = 19834   # 終了の数字\n",
    "\n",
    "# 出力するファイル名\n",
    "output_file = f\"placeholders_${start_number}$-${end_number}$_二文字词根用.txt\"\n",
    "\n",
    "# テキスト生成\n",
    "lines = [f\"${num}$\" for num in range(start_number, end_number + 1)]\n",
    "\n",
    "# ファイルに保存\n",
    "with open(output_file, \"w\", encoding=\"utf-8\") as file:\n",
    "    file.write(\"\\n\".join(lines))"
   ]
  },
  {
   "cell_type": "code",
   "execution_count": 4,
   "metadata": {},
   "outputs": [],
   "source": [
    "# 範囲を指定\n",
    "start_number = 20987  # 開始の数字\n",
    "end_number = 499999   # 終了の数字\n",
    "\n",
    "# 出力するファイル名\n",
    "output_file = f\"placeholders_${start_number}$-${end_number}$.txt\"\n",
    "\n",
    "# テキスト生成\n",
    "lines = [f\"${num}$\" for num in range(start_number, end_number + 1)]\n",
    "\n",
    "# ファイルに保存\n",
    "with open(output_file, \"w\", encoding=\"utf-8\") as file:\n",
    "    file.write(\"\\n\".join(lines))"
   ]
  },
  {
   "cell_type": "code",
   "execution_count": 5,
   "metadata": {},
   "outputs": [],
   "source": [
    "# 範囲を指定\n",
    "start_number = 1854  # 開始の数字\n",
    "end_number = 9834   # 終了の数字\n",
    "\n",
    "# 出力するファイル名\n",
    "output_file = f\"placeholders_&%{start_number}&%-&%{end_number}&%_文字列置換skip用.txt\"\n",
    "\n",
    "# テキスト生成\n",
    "lines = [f\"&%{num}&%\" for num in range(start_number, end_number + 1)]\n",
    "\n",
    "# ファイルに保存\n",
    "with open(output_file, \"w\", encoding=\"utf-8\") as file:\n",
    "    file.write(\"\\n\".join(lines))"
   ]
  },
  {
   "cell_type": "code",
   "execution_count": null,
   "metadata": {},
   "outputs": [],
   "source": []
  }
 ],
 "metadata": {
  "kernelspec": {
   "display_name": "base",
   "language": "python",
   "name": "python3"
  },
  "language_info": {
   "codemirror_mode": {
    "name": "ipython",
    "version": 3
   },
   "file_extension": ".py",
   "mimetype": "text/x-python",
   "name": "python",
   "nbconvert_exporter": "python",
   "pygments_lexer": "ipython3",
   "version": "3.8.18"
  }
 },
 "nbformat": 4,
 "nbformat_minor": 2
}
